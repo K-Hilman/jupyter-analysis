{
 "cells": [
  {
   "cell_type": "code",
   "execution_count": 1,
   "id": "bd53a042-2433-40b4-bc01-2766a1a86d04",
   "metadata": {},
   "outputs": [],
   "source": [
    "#Find out percentage of Malaysian population changes by years"
   ]
  },
  {
   "cell_type": "markdown",
   "id": "a4fe895b-2f34-4905-a5e7-71a18d58fa0a",
   "metadata": {},
   "source": [
    "#Caveat of the data:\n",
    "\n",
    "- The data from 1991 onwards is the most granular, with ethnic group breakdowns providing differentiation between Malay and Other Bumiputera, as well as Other Citizen and Other Non-Citizen. Furthermore, the oldest age category is 85+, i.e. 85 years and above.\n",
    "\n",
    "- The data from 1980-1990 contains a breakdown by ethnic group, but without differentiation between Malay and Other Bumiputera (i.e. there is only one Bumiputera category), or Other Citizen and Other Non-Citizen (i.e. there is only one residual category, Other). Furthermore, the 85+ age group is not present; the oldest age category is 80+.\n",
    "\n",
    "- For data from 1970-1979, there is no breakdown by ethnic group. Furthermore, the 75+, 80+ and 85+ age groups are not present; the oldest age category is 70+."
   ]
  },
  {
   "cell_type": "code",
   "execution_count": 3,
   "id": "c78a78d8-829c-4334-bd7e-7555666d2b02",
   "metadata": {},
   "outputs": [],
   "source": [
    "import pandas as pd\n",
    "import numpy as np\n",
    "import seaborn as sns\n",
    "import matplotlib.pyplot as plt"
   ]
  },
  {
   "cell_type": "code",
   "execution_count": 4,
   "id": "0243c181-0e76-475b-aa47-9b11b769edf9",
   "metadata": {},
   "outputs": [
    {
     "name": "stdout",
     "output_type": "stream",
     "text": [
      "            date   sex      age         ethnicity  population\n",
      "0     1970-01-01  both  overall           overall     10881.8\n",
      "1     1970-01-01  both      0-4           overall      1702.4\n",
      "2     1970-01-01  both      5-9           overall      1690.3\n",
      "3     1970-01-01  both    10-14           overall      1454.7\n",
      "4     1970-01-01  both    15-19           overall      1197.6\n",
      "...          ...   ...      ...               ...         ...\n",
      "17011 2024-01-01  male      85+        bumi_other        10.0\n",
      "17012 2024-01-01  male      85+           chinese        14.9\n",
      "17013 2024-01-01  male      85+            indian         4.4\n",
      "17014 2024-01-01  male      85+     other_citizen         0.6\n",
      "17015 2024-01-01  male      85+  other_noncitizen        11.7\n",
      "\n",
      "[17016 rows x 5 columns]\n"
     ]
    }
   ],
   "source": [
    "# If not already installed, do: pip install pandas fastparquet\n",
    "import pandas as pd\n",
    "\n",
    "URL_DATA = 'https://storage.dosm.gov.my/population/population_malaysia.parquet'\n",
    "\n",
    "df = pd.read_parquet(URL_DATA)\n",
    "if 'date' in df.columns: df['date'] = pd.to_datetime(df['date'])\n",
    "data = df\n",
    "print(data)"
   ]
  },
  {
   "cell_type": "code",
   "execution_count": 5,
   "id": "239b174f-938f-4ebe-aa7e-8e8b04246b67",
   "metadata": {},
   "outputs": [
    {
     "data": {
      "text/html": [
       "<div>\n",
       "<style scoped>\n",
       "    .dataframe tbody tr th:only-of-type {\n",
       "        vertical-align: middle;\n",
       "    }\n",
       "\n",
       "    .dataframe tbody tr th {\n",
       "        vertical-align: top;\n",
       "    }\n",
       "\n",
       "    .dataframe thead th {\n",
       "        text-align: right;\n",
       "    }\n",
       "</style>\n",
       "<table border=\"1\" class=\"dataframe\">\n",
       "  <thead>\n",
       "    <tr style=\"text-align: right;\">\n",
       "      <th></th>\n",
       "      <th>date</th>\n",
       "      <th>sex</th>\n",
       "      <th>age</th>\n",
       "      <th>ethnicity</th>\n",
       "      <th>population</th>\n",
       "    </tr>\n",
       "  </thead>\n",
       "  <tbody>\n",
       "    <tr>\n",
       "      <th>0</th>\n",
       "      <td>1970-01-01</td>\n",
       "      <td>both</td>\n",
       "      <td>overall</td>\n",
       "      <td>overall</td>\n",
       "      <td>10881.8</td>\n",
       "    </tr>\n",
       "    <tr>\n",
       "      <th>1</th>\n",
       "      <td>1970-01-01</td>\n",
       "      <td>both</td>\n",
       "      <td>0-4</td>\n",
       "      <td>overall</td>\n",
       "      <td>1702.4</td>\n",
       "    </tr>\n",
       "    <tr>\n",
       "      <th>2</th>\n",
       "      <td>1970-01-01</td>\n",
       "      <td>both</td>\n",
       "      <td>5-9</td>\n",
       "      <td>overall</td>\n",
       "      <td>1690.3</td>\n",
       "    </tr>\n",
       "  </tbody>\n",
       "</table>\n",
       "</div>"
      ],
      "text/plain": [
       "        date   sex      age ethnicity  population\n",
       "0 1970-01-01  both  overall   overall     10881.8\n",
       "1 1970-01-01  both      0-4   overall      1702.4\n",
       "2 1970-01-01  both      5-9   overall      1690.3"
      ]
     },
     "execution_count": 5,
     "metadata": {},
     "output_type": "execute_result"
    }
   ],
   "source": [
    "data.head(3)"
   ]
  },
  {
   "cell_type": "code",
   "execution_count": 6,
   "id": "b57197a2-218d-4aa2-8f09-0daf84994eeb",
   "metadata": {},
   "outputs": [
    {
     "name": "stdout",
     "output_type": "stream",
     "text": [
      "<class 'pandas.core.frame.DataFrame'>\n",
      "RangeIndex: 17016 entries, 0 to 17015\n",
      "Data columns (total 5 columns):\n",
      " #   Column      Non-Null Count  Dtype         \n",
      "---  ------      --------------  -----         \n",
      " 0   date        17016 non-null  datetime64[ns]\n",
      " 1   sex         17016 non-null  object        \n",
      " 2   age         17016 non-null  object        \n",
      " 3   ethnicity   17016 non-null  object        \n",
      " 4   population  17016 non-null  float64       \n",
      "dtypes: datetime64[ns](1), float64(1), object(3)\n",
      "memory usage: 664.8+ KB\n"
     ]
    }
   ],
   "source": [
    "data.info()"
   ]
  },
  {
   "cell_type": "code",
   "execution_count": 7,
   "id": "882d608f-1723-4b29-9ca7-db8e7fb6c432",
   "metadata": {},
   "outputs": [],
   "source": [
    "data['date'] = pd.to_datetime(data['date'])"
   ]
  },
  {
   "cell_type": "code",
   "execution_count": 8,
   "id": "ae8f80a0-72cc-43e1-a775-2fea9b676c2f",
   "metadata": {},
   "outputs": [
    {
     "data": {
      "text/plain": [
       "date          0\n",
       "sex           0\n",
       "age           0\n",
       "ethnicity     0\n",
       "population    0\n",
       "dtype: int64"
      ]
     },
     "execution_count": 8,
     "metadata": {},
     "output_type": "execute_result"
    }
   ],
   "source": [
    "data.isna().sum()"
   ]
  },
  {
   "cell_type": "code",
   "execution_count": 9,
   "id": "5688690e-5811-437a-9d87-af74e41a3cde",
   "metadata": {},
   "outputs": [
    {
     "data": {
      "text/plain": [
       "sex\n",
       "both      5672\n",
       "female    5672\n",
       "male      5672\n",
       "Name: count, dtype: int64"
      ]
     },
     "execution_count": 9,
     "metadata": {},
     "output_type": "execute_result"
    }
   ],
   "source": [
    "data['sex'].value_counts()"
   ]
  },
  {
   "cell_type": "code",
   "execution_count": 10,
   "id": "978efcc0-8802-41f9-977a-74cd0e97417e",
   "metadata": {},
   "outputs": [
    {
     "data": {
      "text/plain": [
       "age\n",
       "overall    909\n",
       "35-39      909\n",
       "65-69      909\n",
       "60-64      909\n",
       "55-59      909\n",
       "50-54      909\n",
       "0-4        909\n",
       "40-44      909\n",
       "45-49      909\n",
       "30-34      909\n",
       "25-29      909\n",
       "20-24      909\n",
       "15-19      909\n",
       "10-14      909\n",
       "5-9        909\n",
       "70-74      879\n",
       "75-79      879\n",
       "80-84      714\n",
       "85+        714\n",
       "80+        165\n",
       "70+         30\n",
       "Name: count, dtype: int64"
      ]
     },
     "execution_count": 10,
     "metadata": {},
     "output_type": "execute_result"
    }
   ],
   "source": [
    "data['age'].value_counts()"
   ]
  },
  {
   "cell_type": "code",
   "execution_count": 11,
   "id": "838af6db-c7e3-4977-a2b6-baa743f945fa",
   "metadata": {},
   "outputs": [
    {
     "data": {
      "text/plain": [
       "ethnicity\n",
       "overall             3012\n",
       "chinese             2532\n",
       "indian              2532\n",
       "bumi_malay          1938\n",
       "bumi_other          1938\n",
       "other_citizen       1938\n",
       "other_noncitizen    1938\n",
       "bumi                 594\n",
       "other                594\n",
       "Name: count, dtype: int64"
      ]
     },
     "execution_count": 11,
     "metadata": {},
     "output_type": "execute_result"
    }
   ],
   "source": [
    "data['ethnicity'].value_counts()"
   ]
  },
  {
   "cell_type": "code",
   "execution_count": 12,
   "id": "77b71513-9098-458f-ab90-e24258a5739c",
   "metadata": {},
   "outputs": [
    {
     "data": {
      "text/plain": [
       "age\n",
       "overall    909\n",
       "35-39      909\n",
       "65-69      909\n",
       "60-64      909\n",
       "55-59      909\n",
       "50-54      909\n",
       "0-4        909\n",
       "40-44      909\n",
       "45-49      909\n",
       "30-34      909\n",
       "25-29      909\n",
       "20-24      909\n",
       "15-19      909\n",
       "10-14      909\n",
       "5-9        909\n",
       "70-74      879\n",
       "75-79      879\n",
       "80-84      714\n",
       "85+        714\n",
       "80+        165\n",
       "70+         30\n",
       "Name: count, dtype: int64"
      ]
     },
     "execution_count": 12,
     "metadata": {},
     "output_type": "execute_result"
    }
   ],
   "source": [
    "data['age'].value_counts()"
   ]
  },
  {
   "cell_type": "code",
   "execution_count": 13,
   "id": "8f1ae8b8-d330-4b73-b1cd-0146482cd537",
   "metadata": {},
   "outputs": [
    {
     "data": {
      "text/plain": [
       "Timestamp('1970-01-01 00:00:00')"
      ]
     },
     "execution_count": 13,
     "metadata": {},
     "output_type": "execute_result"
    }
   ],
   "source": [
    "data['date'].min()"
   ]
  },
  {
   "cell_type": "code",
   "execution_count": 14,
   "id": "0ccec8dd-2f01-46d3-b453-4dca03ac2f78",
   "metadata": {},
   "outputs": [
    {
     "data": {
      "text/plain": [
       "Timestamp('2024-01-01 00:00:00')"
      ]
     },
     "execution_count": 14,
     "metadata": {},
     "output_type": "execute_result"
    }
   ],
   "source": [
    "data['date'].max()"
   ]
  },
  {
   "cell_type": "code",
   "execution_count": 15,
   "id": "d2d786c0-128d-4e5e-8d50-46cf4e13d902",
   "metadata": {},
   "outputs": [
    {
     "name": "stdout",
     "output_type": "stream",
     "text": [
      "Range of dates: 54 years, 9 months, 13 days\n"
     ]
    }
   ],
   "source": [
    "date_diff = (data['date'].max() - data['date'].min())\n",
    "\n",
    "# Helper function to convert timedelta to years, months, and days\n",
    "def convert_timedelta(td):\n",
    "    days = td.days\n",
    "    months, days = divmod(days, 30)\n",
    "    years, months = divmod(months, 12)\n",
    "    return years, months, days\n",
    "\n",
    "years, months, days = convert_timedelta(date_diff)\n",
    "\n",
    "print(f'Range of dates: {years} years, {months} months, {days} days')\n"
   ]
  },
  {
   "cell_type": "code",
   "execution_count": 16,
   "id": "81618465-ea73-4bc5-af9d-f5d69df1ca05",
   "metadata": {},
   "outputs": [],
   "source": [
    "data['year'] = data['date'].dt.year"
   ]
  },
  {
   "cell_type": "code",
   "execution_count": 17,
   "id": "c7dfb9cc-0b23-4bff-a469-9cf020eb2ae3",
   "metadata": {},
   "outputs": [],
   "source": [
    "#subset the data to contain only data from year 1991 - 2023\n",
    "\n",
    "sub_data = data[(data['year'] >= 2000 ) & (data['year'] <= 2024)]"
   ]
  },
  {
   "cell_type": "code",
   "execution_count": 18,
   "id": "f38b506c-1844-45de-aed7-88074242702f",
   "metadata": {},
   "outputs": [
    {
     "data": {
      "text/plain": [
       "ethnicity\n",
       "overall             1425\n",
       "bumi_malay          1425\n",
       "bumi_other          1425\n",
       "chinese             1425\n",
       "indian              1425\n",
       "other_citizen       1425\n",
       "other_noncitizen    1425\n",
       "Name: count, dtype: int64"
      ]
     },
     "execution_count": 18,
     "metadata": {},
     "output_type": "execute_result"
    }
   ],
   "source": [
    "sub_data['ethnicity'].value_counts()"
   ]
  },
  {
   "cell_type": "code",
   "execution_count": 19,
   "id": "4d78147e-9042-4ba2-8164-6cae43be23e9",
   "metadata": {},
   "outputs": [
    {
     "data": {
      "text/plain": [
       "age\n",
       "overall    525\n",
       "45-49      525\n",
       "80-84      525\n",
       "75-79      525\n",
       "70-74      525\n",
       "65-69      525\n",
       "60-64      525\n",
       "55-59      525\n",
       "50-54      525\n",
       "40-44      525\n",
       "0-4        525\n",
       "35-39      525\n",
       "30-34      525\n",
       "25-29      525\n",
       "20-24      525\n",
       "15-19      525\n",
       "10-14      525\n",
       "5-9        525\n",
       "85+        525\n",
       "Name: count, dtype: int64"
      ]
     },
     "execution_count": 19,
     "metadata": {},
     "output_type": "execute_result"
    }
   ],
   "source": [
    "sub_data['age'].value_counts()"
   ]
  },
  {
   "cell_type": "code",
   "execution_count": 76,
   "id": "9683cc53-730b-44db-8bf7-7ce8d1fd56b8",
   "metadata": {},
   "outputs": [
    {
     "data": {
      "image/png": "[encoded data removed]",
      "text/plain": [
       "<Figure size 1500x300 with 1 Axes>"
      ]
     },
     "metadata": {},
     "output_type": "display_data"
    }
   ],
   "source": [
    "#See growth of population for all ethnicities, gender & age\n",
    "\n",
    "subset = sub_data[(sub_data['sex'] == 'both') & (sub_data['age'] == 'overall') & (sub_data['ethnicity'] == 'overall')]\n",
    "\n",
    "plt.figure(figsize=(15,3))\n",
    "ax = sns.barplot(data=subset, x='year', y='population',errorbar=None)\n",
    "\n",
    "# Add values on top of each bar (converted to millions)\n",
    "for bar in ax.patches:\n",
    "    height = bar.get_height()\n",
    "    ax.text(\n",
    "        bar.get_x() + bar.get_width() / 2,  # x-position: center of the bar\n",
    "        height,                             # y-position: top of the bar\n",
    "        f'{height / 1000:.1f}',           # Label (in millions, 1 decimal)\n",
    "        ha='center',                        # Horizontal alignment\n",
    "        va='bottom'                         # Vertical alignment\n",
    "    )\n",
    "\n",
    "plt.ylabel('Population (Millions)')\n",
    "plt.yticks(ticks=plt.yticks()[0],labels=[int(y/1000) for y in plt.yticks()[0]])\n",
    "plt.xticks(rotation=45)\n",
    "plt.title('Population of Malaysian for all ethnicities & gender from year 2000 - 2024')\n",
    "plt.show()"
   ]
  },
  {
   "cell_type": "code",
   "execution_count": 21,
   "id": "88358650-55d1-45a3-9d22-0f2f566b39f3",
   "metadata": {},
   "outputs": [],
   "source": [
    "subset_age = sub_data[(sub_data['sex'] == 'both') & (sub_data['age'] != 'overall') & (sub_data['ethnicity'] == 'overall')]"
   ]
  },
  {
   "cell_type": "code",
   "execution_count": 22,
   "id": "8eab887b-a044-4f84-80af-3e8216927cfa",
   "metadata": {},
   "outputs": [],
   "source": [
    "def categorize_age(age):\n",
    "    if age in ['0-4', '5-9', '10-14', '15-19']:\n",
    "        return 'Young'\n",
    "    elif age in ['20-24', '25-29', '30-34', '35-39', '40-44', '45-49', '50-54', '55-59']:\n",
    "        return 'Adult'\n",
    "    elif age in ['60-64', '65-69', '70-74', '75-79', '80-84', '85+']:\n",
    "        return 'Senior'\n",
    "    else:\n",
    "        return 'Overall'  # For the 'overall' category"
   ]
  },
  {
   "cell_type": "code",
   "execution_count": null,
   "id": "7df4ef89-f16a-40ea-9a22-ac327762abf7",
   "metadata": {},
   "outputs": [],
   "source": [
    "subset_age['age_category'] = subset_age['age'].apply(categorize_age)\n",
    "subset_age_gp = subset_age.groupby(['year','age_category']).agg(population = ('population','sum')).reset_index()\n",
    "subset_age_gp['age_category'] = subset_age_gp['age_category'].replace({'Young':'Young: Below 19Y',\n",
    "                                                                      'Adult':'Adult: 20Y - 59Y',\n",
    "                                                                      'Senior': 'Senior: Above 60Y'})"
   ]
  },
  {
   "cell_type": "code",
   "execution_count": 24,
   "id": "2581dcde-5f8d-4b15-9e20-1ec8ed584bd0",
   "metadata": {},
   "outputs": [],
   "source": [
    "subset_age_2000 = subset_age_gp[subset_age_gp['year']==2000]"
   ]
  },
  {
   "cell_type": "code",
   "execution_count": 25,
   "id": "3c820af1-25fa-46d9-a0c3-56fe04b5effb",
   "metadata": {},
   "outputs": [],
   "source": [
    "subset_age_2024 = subset_age_gp[subset_age_gp['year']==2024]"
   ]
  },
  {
   "cell_type": "code",
   "execution_count": 26,
   "id": "05008c80-e07a-43a4-98eb-28ba09217cb5",
   "metadata": {},
   "outputs": [
    {
     "data": {
      "image/png": "[encoded data removed]",
      "text/plain": [
       "<Figure size 1000x500 with 2 Axes>"
      ]
     },
     "metadata": {},
     "output_type": "display_data"
    }
   ],
   "source": [
    "fig, axes = plt.subplots(1,2,figsize=(10,5))\n",
    "\n",
    "axes[0].pie(\n",
    "    subset_age_2000['population'],\n",
    "    autopct='%1.1f%%',\n",
    "    startangle=140,\n",
    ")\n",
    "\n",
    "axes[1].pie(\n",
    "    subset_age_2024['population'],\n",
    "    autopct='%1.1f%%',\n",
    "    startangle=140,\n",
    ")\n",
    "\n",
    "plt.suptitle('Age breakdown of Malaysian population for year 2000 vs 2024')\n",
    "\n",
    "axes[0].set_title('2000')\n",
    "axes[1].set_title('2024')\n",
    "plt.legend(subset_age_2024['age_category'], loc='upper left',bbox_to_anchor=(-0.37, 1))\n",
    "plt.show()\n"
   ]
  },
  {
   "cell_type": "code",
   "execution_count": 27,
   "id": "5755dd5e-e1d9-4426-846a-2950688075a8",
   "metadata": {},
   "outputs": [
    {
     "data": {
      "text/html": [
       "<div>\n",
       "<style scoped>\n",
       "    .dataframe tbody tr th:only-of-type {\n",
       "        vertical-align: middle;\n",
       "    }\n",
       "\n",
       "    .dataframe tbody tr th {\n",
       "        vertical-align: top;\n",
       "    }\n",
       "\n",
       "    .dataframe thead th {\n",
       "        text-align: right;\n",
       "    }\n",
       "</style>\n",
       "<table border=\"1\" class=\"dataframe\">\n",
       "  <thead>\n",
       "    <tr style=\"text-align: right;\">\n",
       "      <th>year</th>\n",
       "      <th>2000</th>\n",
       "      <th>2024</th>\n",
       "    </tr>\n",
       "    <tr>\n",
       "      <th>age_category</th>\n",
       "      <th></th>\n",
       "      <th></th>\n",
       "    </tr>\n",
       "  </thead>\n",
       "  <tbody>\n",
       "    <tr>\n",
       "      <th>Adult: 20Y - 59Y</th>\n",
       "      <td>11.71</td>\n",
       "      <td>19.83</td>\n",
       "    </tr>\n",
       "    <tr>\n",
       "      <th>Senior: Above 60Y</th>\n",
       "      <td>1.45</td>\n",
       "      <td>3.95</td>\n",
       "    </tr>\n",
       "    <tr>\n",
       "      <th>Young: Below 19Y</th>\n",
       "      <td>10.34</td>\n",
       "      <td>10.28</td>\n",
       "    </tr>\n",
       "  </tbody>\n",
       "</table>\n",
       "</div>"
      ],
      "text/plain": [
       "year                2000   2024\n",
       "age_category                   \n",
       "Adult: 20Y - 59Y   11.71  19.83\n",
       "Senior: Above 60Y   1.45   3.95\n",
       "Young: Below 19Y   10.34  10.28"
      ]
     },
     "execution_count": 27,
     "metadata": {},
     "output_type": "execute_result"
    }
   ],
   "source": [
    "subset_age_20_24 = subset_age_gp[(subset_age_gp['year']==2024) | (subset_age_gp['year']==2000)].reset_index(drop=True)\n",
    "subset_age_20_24['population'] = round(subset_age_20_24['population']/1000,2)\n",
    "subset_age_20_24_piv = subset_age_20_24.pivot(index='age_category',columns='year',values='population')\n",
    "subset_age_20_24_piv "
   ]
  },
  {
   "cell_type": "code",
   "execution_count": 28,
   "id": "abf39228-1ca1-4e7c-8d63-ac4fed64debb",
   "metadata": {},
   "outputs": [
    {
     "data": {
      "text/html": [
       "<div>\n",
       "<style scoped>\n",
       "    .dataframe tbody tr th:only-of-type {\n",
       "        vertical-align: middle;\n",
       "    }\n",
       "\n",
       "    .dataframe tbody tr th {\n",
       "        vertical-align: top;\n",
       "    }\n",
       "\n",
       "    .dataframe thead th {\n",
       "        text-align: right;\n",
       "    }\n",
       "</style>\n",
       "<table border=\"1\" class=\"dataframe\">\n",
       "  <thead>\n",
       "    <tr style=\"text-align: right;\">\n",
       "      <th>year</th>\n",
       "      <th>2000</th>\n",
       "      <th>2024</th>\n",
       "    </tr>\n",
       "    <tr>\n",
       "      <th>age_category</th>\n",
       "      <th></th>\n",
       "      <th></th>\n",
       "    </tr>\n",
       "  </thead>\n",
       "  <tbody>\n",
       "    <tr>\n",
       "      <th>Adult: 20Y - 59Y</th>\n",
       "      <td>11705.1</td>\n",
       "      <td>19830.1</td>\n",
       "    </tr>\n",
       "    <tr>\n",
       "      <th>Senior: Above 60Y</th>\n",
       "      <td>1451.2</td>\n",
       "      <td>3949.9</td>\n",
       "    </tr>\n",
       "    <tr>\n",
       "      <th>Young: Below 19Y</th>\n",
       "      <td>10338.8</td>\n",
       "      <td>10279.1</td>\n",
       "    </tr>\n",
       "  </tbody>\n",
       "</table>\n",
       "</div>"
      ],
      "text/plain": [
       "year                  2000     2024\n",
       "age_category                       \n",
       "Adult: 20Y - 59Y   11705.1  19830.1\n",
       "Senior: Above 60Y   1451.2   3949.9\n",
       "Young: Below 19Y   10338.8  10279.1"
      ]
     },
     "execution_count": 28,
     "metadata": {},
     "output_type": "execute_result"
    }
   ],
   "source": [
    "subset_age_20_24 = subset_age_gp[(subset_age_gp['year']==2024) | (subset_age_gp['year']==2000)].reset_index(drop=True)\n",
    "subset_age_20_24['population'] = subset_age_20_24['population']\n",
    "subset_age_20_24_piv = subset_age_20_24.pivot(index='age_category',columns='year',values='population')\n",
    "subset_age_20_24_piv "
   ]
  },
  {
   "cell_type": "code",
   "execution_count": 29,
   "id": "52466514-becc-46fc-9cb7-bc39b5c26c41",
   "metadata": {},
   "outputs": [
    {
     "data": {
      "text/plain": [
       "0    11.7051\n",
       "1     1.4512\n",
       "2    10.3388\n",
       "3    19.8301\n",
       "4     3.9499\n",
       "5    10.2791\n",
       "Name: population, dtype: float64"
      ]
     },
     "execution_count": 29,
     "metadata": {},
     "output_type": "execute_result"
    }
   ],
   "source": [
    "subset_age_20_24['population']/1000"
   ]
  },
  {
   "cell_type": "code",
   "execution_count": 30,
   "id": "0603ae4d-a67b-4b26-b7f5-de3bbaf4c488",
   "metadata": {},
   "outputs": [
    {
     "data": {
      "image/png": "[encoded data removed]",
      "text/plain": [
       "<Figure size 1000x600 with 1 Axes>"
      ]
     },
     "metadata": {},
     "output_type": "display_data"
    }
   ],
   "source": [
    "#See portion of ethicities.\n",
    "\n",
    "#Subset to include overall ages, & both gender. Also drop all ethinicities except 3 major races\n",
    "subset = sub_data[((sub_data['sex'] == 'both') & (sub_data['age'] == 'overall')) & \n",
    "(sub_data['ethnicity'].isin(['bumi_malay','chinese','indian']))]\n",
    "\n",
    "#Pivot the DataFrame to have 'year' as the index and 'ethnicity' as columns\n",
    "subset_pivot = subset.pivot(index='year', columns='ethnicity', values='population')\n",
    "\n",
    "#Convert to percentages for 100% stacked bar chart\n",
    "subset_percent = subset_pivot.div(subset_pivot.sum(axis=1), axis=0) * 100\n",
    "\n",
    "ax = subset_percent.plot(\n",
    "    kind='bar',\n",
    "    stacked=True,\n",
    "    figsize=(10,6),\n",
    ")\n",
    "\n",
    "# Customize the plot\n",
    "plt.ylabel('Percentage (%)')                # Label for y-axis\n",
    "plt.xlabel('Year')                         # Label for x-axis\n",
    "plt.title('100% Stacked Bar Chart: Population Distribution by 3 Major Ethnicities')  # Chart title\n",
    "plt.legend(title='Ethnicity')             # Legend with title\n",
    "plt.xticks(rotation=45)                    # Keep x-axis labels horizontal\n",
    "plt.tight_layout()\n",
    "\n",
    "plt.show()"
   ]
  },
  {
   "cell_type": "code",
   "execution_count": 31,
   "id": "5cc0bfe0-cc96-46dc-869f-0215d36fd5f2",
   "metadata": {},
   "outputs": [
    {
     "data": {
      "text/html": [
       "<div>\n",
       "<style scoped>\n",
       "    .dataframe tbody tr th:only-of-type {\n",
       "        vertical-align: middle;\n",
       "    }\n",
       "\n",
       "    .dataframe tbody tr th {\n",
       "        vertical-align: top;\n",
       "    }\n",
       "\n",
       "    .dataframe thead th {\n",
       "        text-align: right;\n",
       "    }\n",
       "</style>\n",
       "<table border=\"1\" class=\"dataframe\">\n",
       "  <thead>\n",
       "    <tr style=\"text-align: right;\">\n",
       "      <th>ethnicity</th>\n",
       "      <th>bumi_malay</th>\n",
       "      <th>chinese</th>\n",
       "      <th>indian</th>\n",
       "    </tr>\n",
       "    <tr>\n",
       "      <th>year</th>\n",
       "      <th></th>\n",
       "      <th></th>\n",
       "      <th></th>\n",
       "    </tr>\n",
       "  </thead>\n",
       "  <tbody>\n",
       "    <tr>\n",
       "      <th>2000</th>\n",
       "      <td>61.25</td>\n",
       "      <td>29.94</td>\n",
       "      <td>8.81</td>\n",
       "    </tr>\n",
       "    <tr>\n",
       "      <th>2001</th>\n",
       "      <td>61.39</td>\n",
       "      <td>29.82</td>\n",
       "      <td>8.78</td>\n",
       "    </tr>\n",
       "    <tr>\n",
       "      <th>2002</th>\n",
       "      <td>61.57</td>\n",
       "      <td>29.67</td>\n",
       "      <td>8.76</td>\n",
       "    </tr>\n",
       "    <tr>\n",
       "      <th>2003</th>\n",
       "      <td>61.74</td>\n",
       "      <td>29.53</td>\n",
       "      <td>8.73</td>\n",
       "    </tr>\n",
       "    <tr>\n",
       "      <th>2004</th>\n",
       "      <td>61.92</td>\n",
       "      <td>29.37</td>\n",
       "      <td>8.71</td>\n",
       "    </tr>\n",
       "    <tr>\n",
       "      <th>2005</th>\n",
       "      <td>62.11</td>\n",
       "      <td>29.22</td>\n",
       "      <td>8.68</td>\n",
       "    </tr>\n",
       "    <tr>\n",
       "      <th>2006</th>\n",
       "      <td>62.29</td>\n",
       "      <td>29.06</td>\n",
       "      <td>8.64</td>\n",
       "    </tr>\n",
       "    <tr>\n",
       "      <th>2007</th>\n",
       "      <td>62.49</td>\n",
       "      <td>28.90</td>\n",
       "      <td>8.61</td>\n",
       "    </tr>\n",
       "    <tr>\n",
       "      <th>2008</th>\n",
       "      <td>62.68</td>\n",
       "      <td>28.74</td>\n",
       "      <td>8.58</td>\n",
       "    </tr>\n",
       "    <tr>\n",
       "      <th>2009</th>\n",
       "      <td>62.90</td>\n",
       "      <td>28.57</td>\n",
       "      <td>8.54</td>\n",
       "    </tr>\n",
       "    <tr>\n",
       "      <th>2010</th>\n",
       "      <td>63.16</td>\n",
       "      <td>28.36</td>\n",
       "      <td>8.49</td>\n",
       "    </tr>\n",
       "    <tr>\n",
       "      <th>2011</th>\n",
       "      <td>63.37</td>\n",
       "      <td>28.18</td>\n",
       "      <td>8.45</td>\n",
       "    </tr>\n",
       "    <tr>\n",
       "      <th>2012</th>\n",
       "      <td>63.59</td>\n",
       "      <td>28.01</td>\n",
       "      <td>8.40</td>\n",
       "    </tr>\n",
       "    <tr>\n",
       "      <th>2013</th>\n",
       "      <td>63.81</td>\n",
       "      <td>27.84</td>\n",
       "      <td>8.35</td>\n",
       "    </tr>\n",
       "    <tr>\n",
       "      <th>2014</th>\n",
       "      <td>64.09</td>\n",
       "      <td>27.62</td>\n",
       "      <td>8.29</td>\n",
       "    </tr>\n",
       "    <tr>\n",
       "      <th>2015</th>\n",
       "      <td>64.37</td>\n",
       "      <td>27.40</td>\n",
       "      <td>8.22</td>\n",
       "    </tr>\n",
       "    <tr>\n",
       "      <th>2016</th>\n",
       "      <td>64.65</td>\n",
       "      <td>27.20</td>\n",
       "      <td>8.15</td>\n",
       "    </tr>\n",
       "    <tr>\n",
       "      <th>2017</th>\n",
       "      <td>64.93</td>\n",
       "      <td>26.97</td>\n",
       "      <td>8.10</td>\n",
       "    </tr>\n",
       "    <tr>\n",
       "      <th>2018</th>\n",
       "      <td>65.21</td>\n",
       "      <td>26.75</td>\n",
       "      <td>8.04</td>\n",
       "    </tr>\n",
       "    <tr>\n",
       "      <th>2019</th>\n",
       "      <td>65.49</td>\n",
       "      <td>26.53</td>\n",
       "      <td>7.98</td>\n",
       "    </tr>\n",
       "    <tr>\n",
       "      <th>2020</th>\n",
       "      <td>65.54</td>\n",
       "      <td>26.71</td>\n",
       "      <td>7.75</td>\n",
       "    </tr>\n",
       "    <tr>\n",
       "      <th>2021</th>\n",
       "      <td>65.98</td>\n",
       "      <td>26.36</td>\n",
       "      <td>7.66</td>\n",
       "    </tr>\n",
       "    <tr>\n",
       "      <th>2022</th>\n",
       "      <td>66.25</td>\n",
       "      <td>26.14</td>\n",
       "      <td>7.61</td>\n",
       "    </tr>\n",
       "    <tr>\n",
       "      <th>2023</th>\n",
       "      <td>66.51</td>\n",
       "      <td>25.93</td>\n",
       "      <td>7.56</td>\n",
       "    </tr>\n",
       "    <tr>\n",
       "      <th>2024</th>\n",
       "      <td>66.77</td>\n",
       "      <td>25.71</td>\n",
       "      <td>7.52</td>\n",
       "    </tr>\n",
       "  </tbody>\n",
       "</table>\n",
       "</div>"
      ],
      "text/plain": [
       "ethnicity  bumi_malay  chinese  indian\n",
       "year                                  \n",
       "2000            61.25    29.94    8.81\n",
       "2001            61.39    29.82    8.78\n",
       "2002            61.57    29.67    8.76\n",
       "2003            61.74    29.53    8.73\n",
       "2004            61.92    29.37    8.71\n",
       "2005            62.11    29.22    8.68\n",
       "2006            62.29    29.06    8.64\n",
       "2007            62.49    28.90    8.61\n",
       "2008            62.68    28.74    8.58\n",
       "2009            62.90    28.57    8.54\n",
       "2010            63.16    28.36    8.49\n",
       "2011            63.37    28.18    8.45\n",
       "2012            63.59    28.01    8.40\n",
       "2013            63.81    27.84    8.35\n",
       "2014            64.09    27.62    8.29\n",
       "2015            64.37    27.40    8.22\n",
       "2016            64.65    27.20    8.15\n",
       "2017            64.93    26.97    8.10\n",
       "2018            65.21    26.75    8.04\n",
       "2019            65.49    26.53    7.98\n",
       "2020            65.54    26.71    7.75\n",
       "2021            65.98    26.36    7.66\n",
       "2022            66.25    26.14    7.61\n",
       "2023            66.51    25.93    7.56\n",
       "2024            66.77    25.71    7.52"
      ]
     },
     "execution_count": 31,
     "metadata": {},
     "output_type": "execute_result"
    }
   ],
   "source": [
    "round(subset_percent,2)"
   ]
  },
  {
   "cell_type": "code",
   "execution_count": 32,
   "id": "7e56e980-8eef-4358-b9b2-6a65f836d9b5",
   "metadata": {},
   "outputs": [
    {
     "name": "stdout",
     "output_type": "stream",
     "text": [
      "      bumi_malay  chinese  indian\n",
      "2025       66.81    25.62    7.58\n",
      "2026       67.04    25.44    7.52\n",
      "2027       67.28    25.26    7.46\n",
      "2028       67.51    25.08    7.41\n",
      "2029       67.75    24.90    7.35\n",
      "2030       67.98    24.72    7.30\n",
      "2031       68.21    24.54    7.24\n",
      "2032       68.45    24.36    7.19\n",
      "2033       68.68    24.18    7.13\n",
      "2034       68.92    24.01    7.08\n",
      "2035       69.15    23.83    7.02\n",
      "2036       69.39    23.65    6.97\n",
      "2037       69.62    23.47    6.91\n",
      "2038       69.85    23.29    6.86\n",
      "2039       70.09    23.11    6.80\n",
      "2040       70.32    22.93    6.74\n",
      "2041       70.56    22.75    6.69\n",
      "2042       70.79    22.57    6.63\n",
      "2043       71.03    22.40    6.58\n",
      "2044       71.26    22.22    6.52\n",
      "2045       71.49    22.04    6.47\n",
      "2046       71.73    21.86    6.41\n",
      "2047       71.96    21.68    6.36\n",
      "2048       72.20    21.50    6.30\n",
      "2049       72.43    21.32    6.25\n",
      "2050       72.67    21.14    6.19\n",
      "2051       72.90    20.96    6.13\n",
      "2052       73.13    20.79    6.08\n",
      "2053       73.37    20.61    6.02\n",
      "2054       73.60    20.43    5.97\n",
      "2055       73.84    20.25    5.91\n",
      "2056       74.07    20.07    5.86\n",
      "2057       74.31    19.89    5.80\n",
      "2058       74.54    19.71    5.75\n",
      "2059       74.77    19.53    5.69\n",
      "2060       75.01    19.35    5.64\n",
      "2061       75.24    19.18    5.58\n",
      "2062       75.48    19.00    5.53\n",
      "2063       75.71    18.82    5.47\n",
      "2064       75.95    18.64    5.41\n",
      "2065       76.18    18.46    5.36\n",
      "2066       76.41    18.28    5.30\n",
      "2067       76.65    18.10    5.25\n",
      "2068       76.88    17.92    5.19\n",
      "2069       77.12    17.74    5.14\n",
      "2070       77.35    17.57    5.08\n",
      "2071       77.59    17.39    5.03\n",
      "2072       77.82    17.21    4.97\n",
      "2073       78.05    17.03    4.92\n",
      "2074       78.29    16.85    4.86\n",
      "2075       78.52    16.67    4.81\n"
     ]
    }
   ],
   "source": [
    "from sklearn.linear_model import LinearRegression\n",
    "\n",
    "# Prepare data for forecasting\n",
    "years = subset_percent.index.values.reshape(-1, 1)  # Reshape for sklearn\n",
    "future_years = np.arange(2025, 2076).reshape(-1, 1)  # Future years\n",
    "\n",
    "# Forecast for each ethnicity\n",
    "forecast_results = {}\n",
    "for ethnicity in subset_percent.columns:\n",
    "    model = LinearRegression()\n",
    "    model.fit(years, subset_percent[ethnicity])\n",
    "    forecast = model.predict(future_years)\n",
    "    forecast_results[ethnicity] = forecast\n",
    "\n",
    "# Display forecasted results\n",
    "forecast_df = pd.DataFrame(forecast_results, index=future_years.flatten())\n",
    "print(round(forecast_df,2))"
   ]
  },
  {
   "cell_type": "code",
   "execution_count": 33,
   "id": "b8b65b69-e776-4665-be9d-33069f515da0",
   "metadata": {},
   "outputs": [
    {
     "data": {
      "image/png": "[encoded data removed]",
      "text/plain": [
       "<Figure size 1000x600 with 1 Axes>"
      ]
     },
     "metadata": {},
     "output_type": "display_data"
    }
   ],
   "source": [
    "#See portion of ethicities forecast\n",
    "\n",
    "ax = forecast_df.plot(\n",
    "    kind='bar',\n",
    "    stacked=True,\n",
    "    figsize=(10,6),\n",
    ")\n",
    "\n",
    "# Customize the plot\n",
    "plt.ylabel('Percentage (%)')                # Label for y-axis\n",
    "plt.xlabel('Year')                         # Label for x-axis\n",
    "plt.title('100% Stacked Bar Chart: Population Distribution by 3 Major Ethnicities')  # Chart title\n",
    "plt.legend(title='Ethnicity')             # Legend with title\n",
    "plt.xticks(rotation=45)                    # Keep x-axis labels horizontal\n",
    "plt.tight_layout()\n",
    "\n",
    "plt.show()"
   ]
  },
  {
   "cell_type": "code",
   "execution_count": 34,
   "id": "1f225451-8c13-49ba-8b86-ad369c9ac415",
   "metadata": {},
   "outputs": [
    {
     "name": "stdout",
     "output_type": "stream",
     "text": [
      "Model Summary:\n",
      "Intercept: 387.8580572588017\n",
      "Coefficients: [-0.17888505]\n",
      "Mean Squared Error: 0.006818968323372889\n",
      "R^2 Score: 0.9959187694360025\n"
     ]
    }
   ],
   "source": [
    "def summarize_model(model, X, y):\n",
    "    print(\"Model Summary:\")\n",
    "    print(f\"Intercept: {model.intercept_}\")\n",
    "    print(f\"Coefficients: {model.coef_}\")\n",
    "\n",
    "    # Performance metrics\n",
    "    predictions = model.predict(X)\n",
    "    mse = np.mean((predictions - y) ** 2)\n",
    "    print(f\"Mean Squared Error: {mse}\")\n",
    "    print(f\"R^2 Score: {model.score(X, y)}\")\n",
    "\n",
    "# Example usage\n",
    "ethnicity_model = LinearRegression()\n",
    "ethnicity_model.fit(years, subset_percent['chinese'])  # Replace 'EthnicityName' with actual column name\n",
    "summarize_model(ethnicity_model, years, subset_percent['chinese'])\n"
   ]
  },
  {
   "cell_type": "code",
   "execution_count": 35,
   "id": "f483d32d-a229-45aa-93c1-a094e52fa66f",
   "metadata": {},
   "outputs": [
    {
     "name": "stdout",
     "output_type": "stream",
     "text": [
      "      bumi_malay    chinese    indian\n",
      "2025   66.808583  25.615821  7.575596\n",
      "2026   67.042878  25.436936  7.520186\n",
      "2027   67.277173  25.258051  7.464776\n",
      "2028   67.511468  25.079166  7.409366\n",
      "2029   67.745763  24.900281  7.353956\n",
      "2030   67.980058  24.721396  7.298546\n",
      "2031   68.214353  24.542511  7.243135\n",
      "2032   68.448649  24.363626  7.187725\n",
      "2033   68.682944  24.184741  7.132315\n",
      "2034   68.917239  24.005856  7.076905\n",
      "2035   69.151534  23.826971  7.021495\n",
      "2036   69.385829  23.648086  6.966085\n",
      "2037   69.620124  23.469201  6.910675\n",
      "2038   69.854419  23.290316  6.855265\n",
      "2039   70.088715  23.111431  6.799855\n",
      "2040   70.323010  22.932546  6.744445\n",
      "2041   70.557305  22.753661  6.689034\n",
      "2042   70.791600  22.574776  6.633624\n",
      "2043   71.025895  22.395890  6.578214\n",
      "2044   71.260190  22.217005  6.522804\n",
      "2045   71.494486  22.038120  6.467394\n",
      "\n",
      "Detailed Report for bumi_malay:\n",
      "\n",
      "                            OLS Regression Results                            \n",
      "==============================================================================\n",
      "Dep. Variable:             bumi_malay   R-squared:                       0.993\n",
      "Model:                            OLS   Adj. R-squared:                  0.993\n",
      "Method:                 Least Squares   F-statistic:                     3411.\n",
      "Date:                Mon, 27 Jan 2025   Prob (F-statistic):           1.64e-26\n",
      "Time:                        20:43:50   Log-Likelihood:                 13.907\n",
      "No. Observations:                  25   AIC:                            -23.81\n",
      "Df Residuals:                      23   BIC:                            -21.38\n",
      "Df Model:                           1                                         \n",
      "Covariance Type:            nonrobust                                         \n",
      "==============================================================================\n",
      "                 coef    std err          t      P>|t|      [0.025      0.975]\n",
      "------------------------------------------------------------------------------\n",
      "const       -407.6391      8.071    -50.505      0.000    -424.336    -390.942\n",
      "x1             0.2343      0.004     58.405      0.000       0.226       0.243\n",
      "==============================================================================\n",
      "Omnibus:                        3.325   Durbin-Watson:                   0.239\n",
      "Prob(Omnibus):                  0.190   Jarque-Bera (JB):                1.797\n",
      "Skew:                           0.377   Prob(JB):                        0.407\n",
      "Kurtosis:                       1.924   Cond. No.                     5.61e+05\n",
      "==============================================================================\n",
      "\n",
      "Notes:\n",
      "[1] Standard Errors assume that the covariance matrix of the errors is correctly specified.\n",
      "[2] The condition number is large, 5.61e+05. This might indicate that there are\n",
      "strong multicollinearity or other numerical problems.\n",
      "\n",
      "Detailed Report for chinese:\n",
      "\n",
      "                            OLS Regression Results                            \n",
      "==============================================================================\n",
      "Dep. Variable:                chinese   R-squared:                       0.996\n",
      "Model:                            OLS   Adj. R-squared:                  0.996\n",
      "Method:                 Least Squares   F-statistic:                     5613.\n",
      "Date:                Mon, 27 Jan 2025   Prob (F-statistic):           5.51e-29\n",
      "Time:                        20:43:50   Log-Likelihood:                 26.877\n",
      "No. Observations:                  25   AIC:                            -49.75\n",
      "Df Residuals:                      23   BIC:                            -47.32\n",
      "Df Model:                           1                                         \n",
      "Covariance Type:            nonrobust                                         \n",
      "==============================================================================\n",
      "                 coef    std err          t      P>|t|      [0.025      0.975]\n",
      "------------------------------------------------------------------------------\n",
      "const        387.8581      4.804     80.732      0.000     377.920     397.796\n",
      "x1            -0.1789      0.002    -74.917      0.000      -0.184      -0.174\n",
      "==============================================================================\n",
      "Omnibus:                        0.103   Durbin-Watson:                   1.059\n",
      "Prob(Omnibus):                  0.950   Jarque-Bera (JB):                0.031\n",
      "Skew:                           0.007   Prob(JB):                        0.985\n",
      "Kurtosis:                       2.829   Cond. No.                     5.61e+05\n",
      "==============================================================================\n",
      "\n",
      "Notes:\n",
      "[1] Standard Errors assume that the covariance matrix of the errors is correctly specified.\n",
      "[2] The condition number is large, 5.61e+05. This might indicate that there are\n",
      "strong multicollinearity or other numerical problems.\n",
      "\n",
      "Detailed Report for indian:\n",
      "\n",
      "                            OLS Regression Results                            \n",
      "==============================================================================\n",
      "Dep. Variable:                 indian   R-squared:                       0.948\n",
      "Model:                            OLS   Adj. R-squared:                  0.946\n",
      "Method:                 Least Squares   F-statistic:                     419.8\n",
      "Date:                Mon, 27 Jan 2025   Prob (F-statistic):           2.86e-16\n",
      "Time:                        20:43:50   Log-Likelihood:                 23.764\n",
      "No. Observations:                  25   AIC:                            -43.53\n",
      "Df Residuals:                      23   BIC:                            -41.09\n",
      "Df Model:                           1                                         \n",
      "Covariance Type:            nonrobust                                         \n",
      "==============================================================================\n",
      "                 coef    std err          t      P>|t|      [0.025      0.975]\n",
      "------------------------------------------------------------------------------\n",
      "const        119.7810      5.441     22.013      0.000     108.525     131.037\n",
      "x1            -0.0554      0.003    -20.489      0.000      -0.061      -0.050\n",
      "==============================================================================\n",
      "Omnibus:                       15.253   Durbin-Watson:                   0.181\n",
      "Prob(Omnibus):                  0.000   Jarque-Bera (JB):                3.078\n",
      "Skew:                          -0.363   Prob(JB):                        0.215\n",
      "Kurtosis:                       1.442   Cond. No.                     5.61e+05\n",
      "==============================================================================\n",
      "\n",
      "Notes:\n",
      "[1] Standard Errors assume that the covariance matrix of the errors is correctly specified.\n",
      "[2] The condition number is large, 5.61e+05. This might indicate that there are\n",
      "strong multicollinearity or other numerical problems.\n"
     ]
    }
   ],
   "source": [
    "import numpy as np\n",
    "import pandas as pd\n",
    "from sklearn.linear_model import LinearRegression\n",
    "import statsmodels.api as sm\n",
    "\n",
    "# Assuming the data preparation steps from before\n",
    "# Normalize data to percentages\n",
    "subset_percent = subset_pivot.div(subset_pivot.sum(axis=1), axis=0) * 100\n",
    "\n",
    "# Prepare data for forecasting\n",
    "years = subset_pivot.index.values.reshape(-1, 1)  # Reshape for sklearn\n",
    "future_years = np.arange(2025, 2046).reshape(-1, 1)  # Future years\n",
    "\n",
    "# Forecast for each ethnicity and generate reports\n",
    "forecasts = {}\n",
    "reports = {}\n",
    "\n",
    "for ethnicity in subset_percent.columns:\n",
    "    model = LinearRegression()\n",
    "    model.fit(years, subset_percent[ethnicity])\n",
    "    forecast = model.predict(future_years)\n",
    "    forecasts[ethnicity] = forecast\n",
    "    \n",
    "    # Generate detailed report using statsmodels\n",
    "    X2 = sm.add_constant(years)\n",
    "    est = sm.OLS(subset_percent[ethnicity], X2)\n",
    "    est2 = est.fit()\n",
    "    reports[ethnicity] = est2.summary()\n",
    "\n",
    "# Display forecasts\n",
    "forecast_df = pd.DataFrame(forecasts, index=future_years.flatten())\n",
    "print(forecast_df)\n",
    "\n",
    "# Display detailed reports\n",
    "for ethnicity, report in reports.items():\n",
    "    print(f\"\\nDetailed Report for {ethnicity}:\\n\")\n",
    "    print(report)\n"
   ]
  }
 ],
 "metadata": {
  "kernelspec": {
   "display_name": "Python [conda env:base] *",
   "language": "python",
   "name": "conda-base-py"
  },
  "language_info": {
   "codemirror_mode": {
    "name": "ipython",
    "version": 3
   },
   "file_extension": ".py",
   "mimetype": "text/x-python",
   "name": "python",
   "nbconvert_exporter": "python",
   "pygments_lexer": "ipython3",
   "version": "3.11.5"
  }
 },
 "nbformat": 4,
 "nbformat_minor": 5
}
